{
 "cells": [
  {
   "cell_type": "markdown",
   "id": "25d7736c-ba17-4aff-b6bb-66eba20fbf4e",
   "metadata": {},
   "source": [
    "# Lab | Error Handling"
   ]
  },
  {
   "cell_type": "markdown",
   "id": "bc99b386-7508-47a0-bcdb-d969deaf6c8b",
   "metadata": {},
   "source": [
    "## Exercise: Error Handling for Managing Customer Orders\n",
    "\n",
    "The implementation of your code for managing customer orders assumes that the user will always enter a valid input. \n",
    "\n",
    "For example, we could modify the `initialize_inventory` function to include error handling.\n",
    "   - If the user enters an invalid quantity (e.g., a negative value or a non-numeric value), display an error message and ask them to re-enter the quantity for that product.\n",
    "   - Use a try-except block to handle the error and continue prompting the user until a valid quantity is entered.\n",
    "\n",
    "```python\n",
    "# Step 1: Define the function for initializing the inventory with error handling\n",
    "def initialize_inventory(products):\n",
    "    inventory = {}\n",
    "    for product in products:\n",
    "        valid_quantity = False\n",
    "        while not valid_quantity:\n",
    "            try:\n",
    "                quantity = int(input(f\"Enter the quantity of {product}s available: \"))\n",
    "                if quantity < 0:\n",
    "                    raise ValueError(\"Invalid quantity! Please enter a non-negative value.\")\n",
    "                valid_quantity = True\n",
    "            except ValueError as error:\n",
    "                print(f\"Error: {error}\")\n",
    "        inventory[product] = quantity\n",
    "    return inventory\n",
    "\n",
    "# Or, in another way:\n",
    "\n",
    "def initialize_inventory(products):\n",
    "    inventory = {}\n",
    "    for product in products:\n",
    "        valid_input = False\n",
    "        while not valid_input:\n",
    "            try:\n",
    "                quantity = int(input(f\"Enter the quantity of {product}s available: \"))\n",
    "                if quantity >= 0:\n",
    "                    inventory[product] = quantity\n",
    "                    valid_input = True\n",
    "                else:\n",
    "                    print(\"Quantity cannot be negative. Please enter a valid quantity.\")\n",
    "            except ValueError:\n",
    "                print(\"Invalid input. Please enter a valid quantity.\")\n",
    "    return inventory\n",
    "```\n",
    "\n",
    "Let's enhance your code by implementing error handling to handle invalid inputs.\n",
    "\n",
    "Follow the steps below to complete the exercise:\n",
    "\n",
    "2. Modify the `calculate_total_price` function to include error handling.\n",
    "   - If the user enters an invalid price (e.g., a negative value or a non-numeric value), display an error message and ask them to re-enter the price for that product.\n",
    "   - Use a try-except block to handle the error and continue prompting the user until a valid price is entered.\n",
    "\n",
    "3. Modify the `get_customer_orders` function to include error handling.\n",
    "   - If the user enters an invalid number of orders (e.g., a negative value or a non-numeric value), display an error message and ask them to re-enter the number of orders.\n",
    "   - If the user enters an invalid product name (e.g., a product name that is not in the inventory), or that doesn't have stock available, display an error message and ask them to re-enter the product name. *Hint: you will need to pass inventory as a parameter*\n",
    "   - Use a try-except block to handle the error and continue prompting the user until a valid product name is entered.\n",
    "\n",
    "4. Test your code by running the program and deliberately entering invalid quantities and product names. Make sure the error handling mechanism works as expected.\n"
   ]
  },
  {
   "cell_type": "code",
   "execution_count": 75,
   "id": "c2197706-2fde-4da2-8222-8ad2215ebf70",
   "metadata": {},
   "outputs": [],
   "source": [
    "#1\n",
    "products = [\"t-shirt\", \"mug\", \"hat\", \"book\", \"keychain\"]\n",
    "def initialize_inventory(products):\n",
    "    inventory = {}\n",
    "    for product in products:\n",
    "        valid_input = False\n",
    "        while not valid_input:\n",
    "            try:\n",
    "                quantity = int(input(f\"Please enter the quantity of {product}s available: \"))\n",
    "                if quantity >= 0:\n",
    "                    inventory[product] = quantity\n",
    "                    valid_input = True\n",
    "                else:\n",
    "                    print(\"Quantity cannot be negative. Please enter a valid quantity.\")\n",
    "            except ValueError:\n",
    "                print(\"Invalid input. Please enter a valid quantity.\")\n",
    "    return inventory"
   ]
  },
  {
   "cell_type": "code",
   "execution_count": 77,
   "id": "e7084a6e-2fc9-48cd-bce2-e3f2d29fb025",
   "metadata": {},
   "outputs": [],
   "source": [
    "#2\n",
    "def calculate_total_price(customer_orders):\n",
    "    total_price=0.0\n",
    "    for product in customer_orders:\n",
    "        while True:\n",
    "            try:\n",
    "                price=input(f\"Please enter the price for {product}: \")\n",
    "                price=float(price)\n",
    "                if price<0:\n",
    "                    raise ValueError(\"The price cannot be negative.\")\n",
    "                total_price+=price\n",
    "                break\n",
    "            except ValueError as e:\n",
    "                print(f\"Invalid input: {e}. Please enter a valid price.\")\n",
    "    print (f\"The total price of the order is ${total_price:2f}\")"
   ]
  },
  {
   "cell_type": "code",
   "execution_count": 79,
   "id": "ffced570-b4ec-4a64-a7b2-d1482eeec911",
   "metadata": {},
   "outputs": [],
   "source": [
    "#3\n",
    "def get_customer_orders(inventory): \n",
    "    customer_orders=set()\n",
    "    while True:\n",
    "        try: \n",
    "            num_orders=int(input(\"Please enter the number of products you want to order: \"))\n",
    "            if num_orders<1:\n",
    "                print(\"Error, please enter a positive number.\")\n",
    "                continue\n",
    "        except ValueError:\n",
    "            print(\"Error, invalid input. Please enter a numeric value: \")\n",
    "        for _ in range(num_orders):\n",
    "            while True:\n",
    "                product=input(\"Please enter the name of the product you want to order: \")\n",
    "                if product not in inventory:\n",
    "                    print(\"Error: Product not found in inventory, please try again.\")\n",
    "                elif inventory[product]<=0:\n",
    "                    print(\"Error: Sorry, this product is out of stock. Please try again.\")\n",
    "                else: \n",
    "                    customer_orders.add(product)\n",
    "                    break\n",
    "        if input(\"Do you want to add another product to your order (yes/no): \").lower() != \"yes\":\n",
    "            break\n",
    "    return customer_orders\n",
    "        "
   ]
  },
  {
   "cell_type": "code",
   "execution_count": 81,
   "id": "b2c8a1f3-63d3-480b-bdc7-5bc6f0c22cbd",
   "metadata": {},
   "outputs": [],
   "source": [
    "def update_inventory(customer_orders, inventory):\n",
    "    processed_orders=[order for order in customer_orders if order in inventory and inventory[order]>0 and (inventory.update({order: inventory[order]-1}), print (f\"Processed order for {order}\"))]"
   ]
  },
  {
   "cell_type": "code",
   "execution_count": 83,
   "id": "5fc0a936-b905-4548-aee3-da614dde3759",
   "metadata": {},
   "outputs": [],
   "source": [
    "def calculate_order_statistics(customer_orders, products): \n",
    "    total_products_ordered=len(customer_orders)\n",
    "    unique_products_ordered=len(set(customer_orders))\n",
    "    percentage_unique=(unique_products_ordered/total_products_ordered*100) if total_products_ordered>0 else 0\n",
    "    return total_products_ordered, percentage_unique"
   ]
  },
  {
   "cell_type": "code",
   "execution_count": 85,
   "id": "0924dbab-5789-4bb3-91df-72af61a3f852",
   "metadata": {},
   "outputs": [],
   "source": [
    "def print_order_statistics(order_statistics):\n",
    "    total_products_ordered,percentage_unique=order_statistics\n",
    "    print(f\"Total products ordered: {total_products_ordered}\")\n",
    "    print(f\"Percentage of unique products ordered: {percentage_unique:.2f}%\")"
   ]
  },
  {
   "cell_type": "code",
   "execution_count": 87,
   "id": "0281dc02-3f32-475e-bce4-72f56db677c5",
   "metadata": {},
   "outputs": [],
   "source": [
    "def print_updated_inventory(inventory):\n",
    "    print(\"Updated inventory:\")\n",
    "    for product, quantity in inventory.items():\n",
    "        print(f\"{product}: {quantity}\")"
   ]
  },
  {
   "cell_type": "code",
   "execution_count": 89,
   "id": "8c901f68-61ca-4715-b823-61cc2ceb8cd2",
   "metadata": {},
   "outputs": [
    {
     "name": "stdin",
     "output_type": "stream",
     "text": [
      "Please enter the quantity of t-shirts available:  10\n",
      "Please enter the quantity of mugs available:  10\n",
      "Please enter the quantity of hats available:  10\n",
      "Please enter the quantity of books available:  10\n",
      "Please enter the quantity of keychains available:  10\n"
     ]
    }
   ],
   "source": [
    "inventory = initialize_inventory(products)"
   ]
  },
  {
   "cell_type": "code",
   "execution_count": 91,
   "id": "43a42e2c-a3bb-4733-aba6-12d172428f17",
   "metadata": {},
   "outputs": [
    {
     "name": "stdin",
     "output_type": "stream",
     "text": [
      "Please enter the number of products you want to order:  1\n",
      "Please enter the name of the product you want to order:  book\n",
      "Do you want to add another product to your order (yes/no):  yes\n",
      "Please enter the number of products you want to order:  notebook\n"
     ]
    },
    {
     "name": "stdout",
     "output_type": "stream",
     "text": [
      "Error, invalid input. Please enter a numeric value: \n"
     ]
    },
    {
     "name": "stdin",
     "output_type": "stream",
     "text": [
      "Please enter the name of the product you want to order:  mug\n",
      "Do you want to add another product to your order (yes/no):  no\n"
     ]
    }
   ],
   "source": [
    "customer_orders = get_customer_orders(inventory)"
   ]
  },
  {
   "cell_type": "code",
   "execution_count": 93,
   "id": "421817da-80b8-4c97-9205-c9d208e372ad",
   "metadata": {},
   "outputs": [
    {
     "name": "stdout",
     "output_type": "stream",
     "text": [
      "Processed order for mug\n",
      "Processed order for book\n"
     ]
    }
   ],
   "source": [
    "update_inventory(customer_orders, inventory)"
   ]
  },
  {
   "cell_type": "code",
   "execution_count": 95,
   "id": "fd5c617d-d56c-40fe-b7d6-3750b9a2c37e",
   "metadata": {},
   "outputs": [
    {
     "name": "stdout",
     "output_type": "stream",
     "text": [
      "Total products ordered: 2\n",
      "Percentage of unique products ordered: 100.00%\n"
     ]
    }
   ],
   "source": [
    "order_statistics = calculate_order_statistics(customer_orders, products)\n",
    "print_order_statistics(order_statistics)"
   ]
  },
  {
   "cell_type": "code",
   "execution_count": 97,
   "id": "3555d3b3-cb75-414e-abd4-913f18e7e857",
   "metadata": {},
   "outputs": [
    {
     "name": "stdout",
     "output_type": "stream",
     "text": [
      "Updated inventory:\n",
      "t-shirt: 10\n",
      "mug: 9\n",
      "hat: 10\n",
      "book: 9\n",
      "keychain: 10\n"
     ]
    }
   ],
   "source": [
    "print_updated_inventory(inventory)"
   ]
  },
  {
   "cell_type": "code",
   "execution_count": null,
   "id": "955faefe-1e42-4e9d-85a9-69c61f61caac",
   "metadata": {},
   "outputs": [],
   "source": []
  }
 ],
 "metadata": {
  "kernelspec": {
   "display_name": "Python 3 (ipykernel)",
   "language": "python",
   "name": "python3"
  },
  "language_info": {
   "codemirror_mode": {
    "name": "ipython",
    "version": 3
   },
   "file_extension": ".py",
   "mimetype": "text/x-python",
   "name": "python",
   "nbconvert_exporter": "python",
   "pygments_lexer": "ipython3",
   "version": "3.12.4"
  }
 },
 "nbformat": 4,
 "nbformat_minor": 5
}
